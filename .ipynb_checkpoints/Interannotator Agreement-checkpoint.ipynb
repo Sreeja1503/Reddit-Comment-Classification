{
 "cells": [
  {
   "cell_type": "markdown",
   "id": "0d43e7cb",
   "metadata": {},
   "source": [
    "#### Group Name : Binary Brains\n",
    "\n",
    "    1. Alisha Momin - rmu993\n",
    "    2. Anbumani Dhanapal - mot356\n",
    "    3. Aqdas Hussain - whu947\n",
    "    4. Sreeja Yalamaddi - yxm265"
   ]
  },
  {
   "cell_type": "markdown",
   "id": "df5adf4d",
   "metadata": {},
   "source": [
    "#### CSV Generation for 50 sample comments"
   ]
  },
  {
   "cell_type": "code",
   "execution_count": 1,
   "id": "50d95dff",
   "metadata": {},
   "outputs": [],
   "source": [
    "import json\n",
    "import csv\n",
    "import numpy as np\n",
    "\n",
    "with open('small_sample(1).json', 'r') as file:\n",
    "    content = file.read()\n",
    "\n",
    "outfile =  open('sample_comments_50.csv', 'w',newline = '')\n",
    "outputwriter = csv.writer(outfile)\n",
    "outputwriter.writerow(['Comment','Technology','Technology in Education','Technology in Workforce Development'])\n",
    "json_objects = content.splitlines()\n",
    "comments_list = []\n",
    "count = 0\n",
    "for obj in json_objects:\n",
    "    data = json.loads(obj) \n",
    "    val = {'Comment': data['body']}\n",
    "    if val in comments_list:\n",
    "        pass\n",
    "    else:\n",
    "        count = count+1\n",
    "        comments_list.append({'Comment': data['body']})\n",
    "        outputwriter.writerow([data['body']])\n",
    "    if count == 50:\n",
    "        break\n",
    "outfile.close()"
   ]
  },
  {
   "cell_type": "markdown",
   "id": "55d05677",
   "metadata": {},
   "source": [
    "#### Calculate Fleiss Kappa and Identify disagreements"
   ]
  },
  {
   "cell_type": "code",
   "execution_count": 2,
   "id": "327f53e8",
   "metadata": {},
   "outputs": [],
   "source": [
    "def read_annotations(files, category):\n",
    "    annotations = {}\n",
    "    for file in files:\n",
    "        with open(file, mode='r', newline='') as f:\n",
    "            reader = csv.DictReader(f)\n",
    "            for row in reader:\n",
    "                comment = row['Comment']\n",
    "                annotation = int(row[category]) \n",
    "                \n",
    "                if comment not in annotations:\n",
    "                    annotations[comment] = []\n",
    "                annotations[comment].append(annotation)\n",
    "        annotation_list = []\n",
    "    for _, annotation_values in annotations.items():\n",
    "        annotation_list.append(annotation_values)\n",
    "    \n",
    "    return annotation_list\n",
    "\n",
    "def fleiss_kappa(annotation_list):\n",
    "    kappa_matrix = []\n",
    "    for annotation in annotation_list:\n",
    "        count_0 = annotation.count(0)\n",
    "        count_1 = annotation.count(1)\n",
    "        kappa_matrix.append([count_0, count_1]) \n",
    "    kappa_matrix = np.array(kappa_matrix)\n",
    "    N = kappa_matrix.shape[0]\n",
    "    n_annotators = np.sum(kappa_matrix[0])\n",
    "    p_j = kappa_matrix.sum(axis=0) / (N * n_annotators)\n",
    "    P_i = (np.sum(kappa_matrix * (kappa_matrix - 1), axis=1)) / (n_annotators * (n_annotators - 1))\n",
    "    P_bar = np.mean(P_i)\n",
    "    P_e = np.sum(p_j ** 2)\n",
    "    kappa = (P_bar - P_e) / (1 - P_e)\n",
    "    return kappa\n",
    "\n",
    "\n",
    "def identify_major_disagreement(annotation_list, threshold=0.5):\n",
    "    disagreed_comments = []\n",
    "    \n",
    "    for i, annotation_values in enumerate(annotation_list):\n",
    "        count_0 = annotation_values.count(0)\n",
    "        count_1 = annotation_values.count(1)\n",
    "        \n",
    "        total_annotators = len(annotation_values)\n",
    "        disagreement_ratio = abs(count_0 - count_1) / total_annotators\n",
    "        \n",
    "        if disagreement_ratio < threshold:\n",
    "            disagreed_comments.append((i, count_0, count_1)) \n",
    "    \n",
    "    return disagreed_comments\n"
   ]
  },
  {
   "cell_type": "code",
   "execution_count": 18,
   "id": "8a514518",
   "metadata": {
    "scrolled": false
   },
   "outputs": [
    {
     "name": "stdout",
     "output_type": "stream",
     "text": [
      "Fleiss' Kappa for 'Technology': 0.7802197802197802\n",
      "Fleiss' Kappa for 'Technology in Education': 0.6563573883161511\n",
      "Fleiss' Kappa for 'Technology in Workforce Development': 0.6563573883161511\n"
     ]
    }
   ],
   "source": [
    "files = [\"Reddit_comments_labeling_others.csv\",\"sample_comments_50_updated.csv\"]\n",
    "label_categories = ['Technology', 'Technology in Education', 'Technology in Workforce Development']\n",
    "\n",
    "for category in label_categories:\n",
    "    annotation_list = read_annotations(files, category)\n",
    "    kappa = fleiss_kappa(annotation_list)\n",
    "    print(f\"Fleiss' Kappa for '{category}': {kappa}\")\n",
    "#     disagreed_comments = identify_major_disagreement(annotation_list, threshold=0.5)\n",
    "#     if disagreed_comments:\n",
    "#         print(\"Comments with major disagreement:\")\n",
    "#         for i, count_0, count_1 in disagreed_comments:\n",
    "#             print(f\"Comment Index: {i} | 0's: {count_0} | 1's: {count_1}\")\n",
    "#     else:\n",
    "#         print(\"No major disagreements.\")\n",
    "#     indexes = [value[0] for value in disagreed_comments]\n",
    "#     if len(indexes):\n",
    "#         disagreed_comments = [comments_list[i] for i in indexes]\n",
    "#         print(category)"
   ]
  },
  {
   "cell_type": "code",
   "execution_count": null,
   "id": "bc55f748",
   "metadata": {},
   "outputs": [],
   "source": []
  },
  {
   "cell_type": "markdown",
   "id": "9bcf5441",
   "metadata": {},
   "source": [
    "#### CSV Generation for 950 sample comments"
   ]
  },
  {
   "cell_type": "code",
   "execution_count": 4,
   "id": "ecab472e",
   "metadata": {},
   "outputs": [],
   "source": [
    "with open('small_sample(1).json', 'r', encoding='utf-8') as file:\n",
    "    content = file.read()\n",
    "\n",
    "with open('sample_comments_950.csv', 'w', newline='', encoding='utf-8') as outfile:\n",
    "    outputwriter = csv.writer(outfile)\n",
    "    outputwriter.writerow(['Comment', 'Technology', 'Technology in Education', 'Technology in Workforce Development'])\n",
    "    json_objects = content.splitlines()\n",
    "    comments_set = set()\n",
    "    count = 0\n",
    "    for obj in json_objects[51:]:\n",
    "        try:\n",
    "            data = json.loads(obj)\n",
    "            comment = data['body']\n",
    "            if comment not in comments_set:\n",
    "                comments_set.add(comment)\n",
    "                count += 1\n",
    "                outputwriter.writerow([comment, '', '', '']) \n",
    "            if count == 950:\n",
    "                break\n",
    "\n",
    "        except json.JSONDecodeError:\n",
    "            print(f\"Skipping invalid JSON object: {obj}\")  \n"
   ]
  },
  {
   "cell_type": "code",
   "execution_count": null,
   "id": "cc48bf3a",
   "metadata": {},
   "outputs": [],
   "source": []
  }
 ],
 "metadata": {
  "kernelspec": {
   "display_name": "Python 3",
   "language": "python",
   "name": "python3"
  },
  "language_info": {
   "codemirror_mode": {
    "name": "ipython",
    "version": 3
   },
   "file_extension": ".py",
   "mimetype": "text/x-python",
   "name": "python",
   "nbconvert_exporter": "python",
   "pygments_lexer": "ipython3",
   "version": "3.8.8"
  }
 },
 "nbformat": 4,
 "nbformat_minor": 5
}
